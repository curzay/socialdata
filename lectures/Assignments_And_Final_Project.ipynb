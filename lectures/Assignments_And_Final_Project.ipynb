{
 "cells": [
  {
   "cell_type": "markdown",
   "id": "2f03959f",
   "metadata": {},
   "source": [
    "# Info on Assignments and Final Project\n",
    "\n",
    "Below is a little video that introduces the assignments and the final project. \n",
    "\n",
    "(There may be changes to the final project this year)"
   ]
  },
  {
   "cell_type": "markdown",
   "id": "9357f858",
   "metadata": {},
   "source": [
    "[![A link to the video](http://img.youtube.com/vi/sSQBcbQ3FL0/0.jpg)](http://www.youtube.com/watch?v=sSQBcbQ3FL0 \"The video\")"
   ]
  }
 ],
 "metadata": {
  "kernelspec": {
   "display_name": "Python 3 (ipykernel)",
   "language": "python",
   "name": "python3"
  },
  "language_info": {
   "codemirror_mode": {
    "name": "ipython",
    "version": 3
   },
   "file_extension": ".py",
   "mimetype": "text/x-python",
   "name": "python",
   "nbconvert_exporter": "python",
   "pygments_lexer": "ipython3",
   "version": "3.9.16"
  }
 },
 "nbformat": 4,
 "nbformat_minor": 5
}
